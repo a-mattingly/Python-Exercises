{
  "nbformat": 4,
  "nbformat_minor": 0,
  "metadata": {
    "colab": {
      "provenance": [],
      "authorship_tag": "ABX9TyN+hGnXT2ihOuAxYpFVeFOD",
      "include_colab_link": true
    },
    "kernelspec": {
      "name": "python3",
      "display_name": "Python 3"
    },
    "language_info": {
      "name": "python"
    }
  },
  "cells": [
    {
      "cell_type": "markdown",
      "metadata": {
        "id": "view-in-github",
        "colab_type": "text"
      },
      "source": [
        "<a href=\"https://colab.research.google.com/github/a-mattingly/Python-Exercises/blob/python-exercises/Finding_the_Factorial_of_a_Number.ipynb\" target=\"_parent\"><img src=\"https://colab.research.google.com/assets/colab-badge.svg\" alt=\"Open In Colab\"/></a>"
      ]
    },
    {
      "cell_type": "code",
      "execution_count": null,
      "metadata": {
        "id": "MYidK70tjGzQ"
      },
      "outputs": [],
      "source": [
        "# Challenge: Write a function that returns the factorial of a given number.\n",
        "\n",
        "# The factorial of a number n (written as n!) means: n! = n × (n-1) × (n-2) × ... × 2 × 1\n",
        "\n",
        "# Example: 5! = 5 × 4 × 3 × 2 × 1 = 120\n",
        "\n",
        "# Note: By definition, 0! = 1"
      ]
    },
    {
      "cell_type": "code",
      "source": [
        "# Loop Version (Iterative)\n",
        "\n",
        "def factorial(n):\n",
        "  if n < 0:\n",
        "    return \"Factorial is not defined for negative numbers.\"\n",
        "\n",
        "  result = 1\n",
        "  for i in range(1, n + 1):\n",
        "    result *= i  # Multiply result by current number i\n",
        "  return result\n",
        "\n",
        "# Example usage:\n",
        "num = 5\n",
        "print(f\"The factorial of {num} is:\", factorial(num))"
      ],
      "metadata": {
        "colab": {
          "base_uri": "https://localhost:8080/"
        },
        "id": "2ayJ0WWKkNCt",
        "outputId": "1fd040b8-c59e-4774-8a94-51eed58fd22f"
      },
      "execution_count": null,
      "outputs": [
        {
          "output_type": "stream",
          "name": "stdout",
          "text": [
            "The factorial of 5 is: 120\n"
          ]
        }
      ]
    },
    {
      "cell_type": "code",
      "source": [
        "# Recursive Version\n",
        "\n",
        "def factorial(n):\n",
        "  if n == 0:\n",
        "    return 1\n",
        "  else:\n",
        "    return n * factorial(n - 1)\n",
        "\n",
        "# Example usage:\n",
        "num = 5\n",
        "print(f\"The factorial of {num} is:\", factorial(num))"
      ],
      "metadata": {
        "colab": {
          "base_uri": "https://localhost:8080/"
        },
        "id": "UxrCbfrbnjwi",
        "outputId": "e9afd759-8b4e-4006-f7d5-86a6cb60f567"
      },
      "execution_count": null,
      "outputs": [
        {
          "output_type": "stream",
          "name": "stdout",
          "text": [
            "The factorial of 5 is: 120\n"
          ]
        }
      ]
    },
    {
      "cell_type": "code",
      "source": [],
      "metadata": {
        "id": "Its-r3PJn2-6"
      },
      "execution_count": null,
      "outputs": []
    }
  ]
}