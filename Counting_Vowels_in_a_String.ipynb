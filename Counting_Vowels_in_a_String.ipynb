{
  "nbformat": 4,
  "nbformat_minor": 0,
  "metadata": {
    "colab": {
      "provenance": [],
      "authorship_tag": "ABX9TyM6+hU/3V49SYaQA1w+3Bbi",
      "include_colab_link": true
    },
    "kernelspec": {
      "name": "python3",
      "display_name": "Python 3"
    },
    "language_info": {
      "name": "python"
    }
  },
  "cells": [
    {
      "cell_type": "markdown",
      "metadata": {
        "id": "view-in-github",
        "colab_type": "text"
      },
      "source": [
        "<a href=\"https://colab.research.google.com/github/a-mattingly/Python-Exercises/blob/python-exercises/Counting_Vowels_in_a_String.ipynb\" target=\"_parent\"><img src=\"https://colab.research.google.com/assets/colab-badge.svg\" alt=\"Open In Colab\"/></a>"
      ]
    },
    {
      "cell_type": "code",
      "execution_count": null,
      "metadata": {
        "id": "UbClY2Hc8U9S"
      },
      "outputs": [],
      "source": [
        "# Challenge: Write a function that counts the number of vowels in a given string."
      ]
    },
    {
      "cell_type": "code",
      "source": [
        "def count_vowels(text):\n",
        "  # Convert text to lowercase to make counting case-insensitive\n",
        "  text = text.lower()\n",
        "\n",
        "  vowels = \"aeiou\"\n",
        "  count = 0\n",
        "\n",
        "  # Loop through each character in the text\n",
        "  for char in text:\n",
        "    if char in vowels:\n",
        "      count +=1 # Increase count if the charater is a vowel\n",
        "\n",
        "  return count\n",
        "\n",
        "# Example usage:\n",
        "sentence = \"Hello World!\"\n",
        "print (f'Number of vowels in \"{sentence}\":', count_vowels(sentence))"
      ],
      "metadata": {
        "colab": {
          "base_uri": "https://localhost:8080/"
        },
        "id": "J6tga4pX9FRo",
        "outputId": "5d9866f1-c671-4854-81c4-d2a91b83d0ed"
      },
      "execution_count": null,
      "outputs": [
        {
          "output_type": "stream",
          "name": "stdout",
          "text": [
            "Number of vowels in \"Hello World!\": 3\n"
          ]
        }
      ]
    },
    {
      "cell_type": "code",
      "source": [],
      "metadata": {
        "id": "5Ycbnk5U-sRM"
      },
      "execution_count": null,
      "outputs": []
    }
  ]
}