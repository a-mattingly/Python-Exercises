{
  "nbformat": 4,
  "nbformat_minor": 0,
  "metadata": {
    "colab": {
      "provenance": [],
      "authorship_tag": "ABX9TyPOVbuCxCJgUw67XcxAxDuC",
      "include_colab_link": true
    },
    "kernelspec": {
      "name": "python3",
      "display_name": "Python 3"
    },
    "language_info": {
      "name": "python"
    }
  },
  "cells": [
    {
      "cell_type": "markdown",
      "metadata": {
        "id": "view-in-github",
        "colab_type": "text"
      },
      "source": [
        "<a href=\"https://colab.research.google.com/github/a-mattingly/Python-Exercises/blob/python-exercises/Sum_of_Array_Elements.ipynb\" target=\"_parent\"><img src=\"https://colab.research.google.com/assets/colab-badge.svg\" alt=\"Open In Colab\"/></a>"
      ]
    },
    {
      "cell_type": "code",
      "execution_count": null,
      "metadata": {
        "id": "05UVoRXizfrJ"
      },
      "outputs": [],
      "source": [
        "# Challenge: Write a function that calculates the sum of all elements in an array."
      ]
    },
    {
      "cell_type": "code",
      "source": [
        "def sum_of_list(arr):\n",
        "  total = 0\n",
        "  for item in arr:\n",
        "    total += item\n",
        "  return total\n",
        "\n",
        "# Example usage:\n",
        "numbers = [10, 20, 30, 40]\n",
        "print(sum_of_list(numbers))"
      ],
      "metadata": {
        "colab": {
          "base_uri": "https://localhost:8080/"
        },
        "id": "6NBmpUHtz28Z",
        "outputId": "dc61e45c-ea17-4b67-825e-34c1520dfba6"
      },
      "execution_count": 1,
      "outputs": [
        {
          "output_type": "stream",
          "name": "stdout",
          "text": [
            "100\n"
          ]
        }
      ]
    },
    {
      "cell_type": "code",
      "source": [
        "# Using built-in sum function\n",
        "\n",
        "numbers = [10, 20, 30, 40]\n",
        "result = sum(numbers)\n",
        "print(result)"
      ],
      "metadata": {
        "colab": {
          "base_uri": "https://localhost:8080/"
        },
        "id": "YVN742vC0wvo",
        "outputId": "604d074d-ef5d-4190-83a8-3d1a0af5cb8d"
      },
      "execution_count": 2,
      "outputs": [
        {
          "output_type": "stream",
          "name": "stdout",
          "text": [
            "100\n"
          ]
        }
      ]
    }
  ]
}