{
  "nbformat": 4,
  "nbformat_minor": 0,
  "metadata": {
    "colab": {
      "provenance": [],
      "authorship_tag": "ABX9TyM9hT59SR4U4Kg2n//fFO3Y",
      "include_colab_link": true
    },
    "kernelspec": {
      "name": "python3",
      "display_name": "Python 3"
    },
    "language_info": {
      "name": "python"
    }
  },
  "cells": [
    {
      "cell_type": "markdown",
      "metadata": {
        "id": "view-in-github",
        "colab_type": "text"
      },
      "source": [
        "<a href=\"https://colab.research.google.com/github/a-mattingly/Python-Exercises/blob/python-exercises/Fibonacci_Sequence.ipynb\" target=\"_parent\"><img src=\"https://colab.research.google.com/assets/colab-badge.svg\" alt=\"Open In Colab\"/></a>"
      ]
    },
    {
      "cell_type": "code",
      "execution_count": 1,
      "metadata": {
        "id": "_uUVcKv4v7m3"
      },
      "outputs": [],
      "source": [
        "# Challenge: Generate the first n numbers of the Fibonacci sequence.\n",
        "\n",
        "# The Fibonacci sequence is a series of numbers where each number is the sum of the two numbers before it:\n",
        "\n",
        "# 0, 1, 1, 2, 3, 5, 8, 13, 21, 34, ...\n",
        "# F(0) = 0\n",
        "# F(1) = 1\n",
        "# F(n) = F(n-1) + F(n-2)"
      ]
    },
    {
      "cell_type": "code",
      "source": [
        "def generate_fibonacci(n):\n",
        "  if n <= 0:\n",
        "    return []\n",
        "  elif n == 1:\n",
        "    return [0]\n",
        "  elif n == 2:\n",
        "    return [0, 1]\n",
        "\n",
        "  fib_sequence = [0, 1] # Start with first two Fibonacci numbers\n",
        "  for i in range(2, n):\n",
        "    next_number = fib_sequence[-1] + fib_sequence[-2]\n",
        "    fib_sequence.append(next_number)\n",
        "\n",
        "  return fib_sequence\n",
        "\n",
        "# Example usage:\n",
        "num = 10\n",
        "print(f\"The first {num} Fibonacci numbers are:\", generate_fibonacci(num))"
      ],
      "metadata": {
        "colab": {
          "base_uri": "https://localhost:8080/"
        },
        "id": "rIC85gR9wME_",
        "outputId": "b56cba63-602f-43de-d928-da4fc6f5e75f"
      },
      "execution_count": 3,
      "outputs": [
        {
          "output_type": "stream",
          "name": "stdout",
          "text": [
            "The first 10 Fibonacci numbers are: [0, 1, 1, 2, 3, 5, 8, 13, 21, 34]\n"
          ]
        }
      ]
    }
  ]
}