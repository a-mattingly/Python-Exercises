{
  "nbformat": 4,
  "nbformat_minor": 0,
  "metadata": {
    "colab": {
      "provenance": [],
      "authorship_tag": "ABX9TyMdFc6mjwK/Utd4zWCm1YLv",
      "include_colab_link": true
    },
    "kernelspec": {
      "name": "python3",
      "display_name": "Python 3"
    },
    "language_info": {
      "name": "python"
    }
  },
  "cells": [
    {
      "cell_type": "markdown",
      "metadata": {
        "id": "view-in-github",
        "colab_type": "text"
      },
      "source": [
        "<a href=\"https://colab.research.google.com/github/a-mattingly/Python-Exercises/blob/python-exercises/Finding_the_Largest_Number_in_an_Array.ipynb\" target=\"_parent\"><img src=\"https://colab.research.google.com/assets/colab-badge.svg\" alt=\"Open In Colab\"/></a>"
      ]
    },
    {
      "cell_type": "code",
      "source": [
        "# Challenge: Given an array of numbers, write a function that returns the largest number."
      ],
      "metadata": {
        "id": "YIEblk6LjsXq"
      },
      "execution_count": null,
      "outputs": []
    },
    {
      "cell_type": "code",
      "execution_count": null,
      "metadata": {
        "colab": {
          "base_uri": "https://localhost:8080/"
        },
        "id": "40Bxhdi-y8M2",
        "outputId": "fbc2929b-cd5f-4180-d67e-191b92ab640c"
      },
      "outputs": [
        {
          "output_type": "stream",
          "name": "stdout",
          "text": [
            "The largest number is:  9\n"
          ]
        }
      ],
      "source": [
        "def find_largest(numbers):\n",
        "  # Assume the first number is the largest initially\n",
        "  largest = numbers[0]\n",
        "\n",
        "  # Loop through each number in the list\n",
        "  for num in numbers:\n",
        "    #If we find a number bigger than the current largest, update largest\n",
        "    if num > largest:\n",
        "      largest = num\n",
        "\n",
        "  return largest\n",
        "\n",
        "# Example usage:\n",
        "nums = [3, 7, 2, 9, 5]\n",
        "\n",
        "print(\"The largest number is: \", find_largest(nums))"
      ]
    }
  ]
}