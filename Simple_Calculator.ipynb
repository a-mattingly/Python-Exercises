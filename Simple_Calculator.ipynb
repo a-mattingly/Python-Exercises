{
  "nbformat": 4,
  "nbformat_minor": 0,
  "metadata": {
    "colab": {
      "provenance": [],
      "authorship_tag": "ABX9TyOZLY380bSEkLJSTsvKaOu7",
      "include_colab_link": true
    },
    "kernelspec": {
      "name": "python3",
      "display_name": "Python 3"
    },
    "language_info": {
      "name": "python"
    }
  },
  "cells": [
    {
      "cell_type": "markdown",
      "metadata": {
        "id": "view-in-github",
        "colab_type": "text"
      },
      "source": [
        "<a href=\"https://colab.research.google.com/github/a-mattingly/Python-Exercises/blob/python-exercises/Simple_Calculator.ipynb\" target=\"_parent\"><img src=\"https://colab.research.google.com/assets/colab-badge.svg\" alt=\"Open In Colab\"/></a>"
      ]
    },
    {
      "cell_type": "code",
      "execution_count": 3,
      "metadata": {
        "id": "ZL-3EqLI_nrz"
      },
      "outputs": [],
      "source": [
        "# Challenge: Build a basic calculator that can perform addition, subtraction, multiplication, and division."
      ]
    },
    {
      "cell_type": "code",
      "source": [
        "def calculator(num1, num2, operation):\n",
        "  if operation == '+':\n",
        "    return num1 + num2\n",
        "  elif operation == '-':\n",
        "    return num1 - num2\n",
        "  elif operation == '*':\n",
        "    return num1 * num2\n",
        "  elif operation == '/':\n",
        "    # Handle division by zero\n",
        "    if num2 == 0:\n",
        "      return \"Error! Division by zero.\"\n",
        "    return num1 / num2\n",
        "  else:\n",
        "    return \"Invalid operation.\"\n",
        "\n",
        "# Example usage:\n",
        "number1 = float(input(\"Enter first number: \"))\n",
        "number2 = float(input(\"Enter second number: \"))\n",
        "op = input(\"Enter operation (+, -, *, /): \")\n",
        "\n",
        "result = calculator(number1, number2, op)\n",
        "print(\"Result:\", result)"
      ],
      "metadata": {
        "colab": {
          "base_uri": "https://localhost:8080/"
        },
        "id": "q82-mQua_v3f",
        "outputId": "93c4ecc6-00a2-4391-ee4b-a797d593176a"
      },
      "execution_count": 4,
      "outputs": [
        {
          "output_type": "stream",
          "name": "stdout",
          "text": [
            "Enter first number: 1\n",
            "Enter second number: 1\n",
            "Enter operation (+, -, *, /): +\n",
            "Result: 2.0\n"
          ]
        }
      ]
    }
  ]
}