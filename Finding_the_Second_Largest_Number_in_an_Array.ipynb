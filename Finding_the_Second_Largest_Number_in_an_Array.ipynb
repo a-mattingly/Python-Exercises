{
  "nbformat": 4,
  "nbformat_minor": 0,
  "metadata": {
    "colab": {
      "provenance": [],
      "authorship_tag": "ABX9TyPuoIExD0wcm9OA+4R/HqXg",
      "include_colab_link": true
    },
    "kernelspec": {
      "name": "python3",
      "display_name": "Python 3"
    },
    "language_info": {
      "name": "python"
    }
  },
  "cells": [
    {
      "cell_type": "markdown",
      "metadata": {
        "id": "view-in-github",
        "colab_type": "text"
      },
      "source": [
        "<a href=\"https://colab.research.google.com/github/a-mattingly/Python-Exercises/blob/python-exercises/Finding_the_Second_Largest_Number_in_an_Array.ipynb\" target=\"_parent\"><img src=\"https://colab.research.google.com/assets/colab-badge.svg\" alt=\"Open In Colab\"/></a>"
      ]
    },
    {
      "cell_type": "code",
      "execution_count": null,
      "metadata": {
        "id": "U0-GVPot9W_W"
      },
      "outputs": [],
      "source": [
        "# Challenge: Given an array, find the second-largest element without sorting."
      ]
    },
    {
      "cell_type": "code",
      "source": [
        "def find_second_largest(arr):\n",
        "  if len(arr) <2:\n",
        "    return None # Not enough elements to determine second largest\n",
        "\n",
        "  largest = second_largest = float('-inf')\n",
        "\n",
        "  for num in arr:\n",
        "    if num > largest:\n",
        "      second_largest = largest\n",
        "      largest = num\n",
        "    elif largest > num > second_largest:\n",
        "      second_larges = num\n",
        "\n",
        "  return second_largest if second_largest != float('-inf') else None\n",
        "\n",
        "# Example usage:\n",
        "arr = [10, 20, 4, 45, 99]\n",
        "print(find_second_largest(arr))"
      ],
      "metadata": {
        "colab": {
          "base_uri": "https://localhost:8080/"
        },
        "id": "cvef09iN98yl",
        "outputId": "fe5b2edc-8903-49a8-85cb-2f01d5f6a463"
      },
      "execution_count": 2,
      "outputs": [
        {
          "output_type": "stream",
          "name": "stdout",
          "text": [
            "45\n"
          ]
        }
      ]
    }
  ]
}