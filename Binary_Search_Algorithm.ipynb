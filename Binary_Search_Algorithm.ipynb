{
  "nbformat": 4,
  "nbformat_minor": 0,
  "metadata": {
    "colab": {
      "provenance": [],
      "authorship_tag": "ABX9TyPPYHg2821uVAlUMuPFPP4d",
      "include_colab_link": true
    },
    "kernelspec": {
      "name": "python3",
      "display_name": "Python 3"
    },
    "language_info": {
      "name": "python"
    }
  },
  "cells": [
    {
      "cell_type": "markdown",
      "metadata": {
        "id": "view-in-github",
        "colab_type": "text"
      },
      "source": [
        "<a href=\"https://colab.research.google.com/github/a-mattingly/Python-Exercises/blob/main/Binary_Search_Algorithm.ipynb\" target=\"_parent\"><img src=\"https://colab.research.google.com/assets/colab-badge.svg\" alt=\"Open In Colab\"/></a>"
      ]
    },
    {
      "cell_type": "code",
      "execution_count": null,
      "metadata": {
        "id": "apCWd0_iFUZX"
      },
      "outputs": [],
      "source": [
        "# Challenge: Implement the binary search algorithm to search for an element in a sorted array."
      ]
    },
    {
      "cell_type": "code",
      "source": [
        "# Iterative Implementation\n",
        "\n",
        "def binary_search(arr, target):\n",
        "  low, high = 0, len(arr) - 1\n",
        "\n",
        "  while low <= high:\n",
        "    mid = (low + high) // 2 # Calculate middle index\n",
        "    mid_val = arr[mid]\n",
        "\n",
        "    if mid_val == target:\n",
        "      return mid # Target found, return index\n",
        "    elif mid_val < target:\n",
        "      low = mid + 1 # Search in the right half\n",
        "    else:\n",
        "      high = mid - 1 # Search in the left half\n",
        "\n",
        "  return -1 # Target not found\n",
        "\n",
        "# Example usage:\n",
        "arr = [1, 3, 5, 7, 9, 11, 13, 15]\n",
        "target = 7\n",
        "index = binary_search(arr, target)\n",
        "\n",
        "if index != -1:\n",
        "  print(f\"Element {target} found at index {index}.\")\n",
        "else:\n",
        "  print(f\"Element {target} not found in the arrage.\")"
      ],
      "metadata": {
        "colab": {
          "base_uri": "https://localhost:8080/"
        },
        "id": "-LoxCz-rFfuM",
        "outputId": "a29d37c7-8315-4b05-a88e-4c7a5569b4ba"
      },
      "execution_count": 2,
      "outputs": [
        {
          "output_type": "stream",
          "name": "stdout",
          "text": [
            "Element 7 found at index 3.\n"
          ]
        }
      ]
    }
  ]
}