{
  "nbformat": 4,
  "nbformat_minor": 0,
  "metadata": {
    "colab": {
      "provenance": [],
      "authorship_tag": "ABX9TyMEzeT1A8Fjt+m4qt8Pb4Ld",
      "include_colab_link": true
    },
    "kernelspec": {
      "name": "python3",
      "display_name": "Python 3"
    },
    "language_info": {
      "name": "python"
    }
  },
  "cells": [
    {
      "cell_type": "markdown",
      "metadata": {
        "id": "view-in-github",
        "colab_type": "text"
      },
      "source": [
        "<a href=\"https://colab.research.google.com/github/a-mattingly/Python-Exercises/blob/main/Anagrams.ipynb\" target=\"_parent\"><img src=\"https://colab.research.google.com/assets/colab-badge.svg\" alt=\"Open In Colab\"/></a>"
      ]
    },
    {
      "cell_type": "code",
      "execution_count": null,
      "metadata": {
        "id": "LqFd_Ol7DkEI"
      },
      "outputs": [],
      "source": [
        "# Challenge: Write a function to check if two strings are anagrams of each other."
      ]
    },
    {
      "cell_type": "code",
      "source": [
        "from collections import Counter\n",
        "\n",
        "def are_anagrams(str1, str2):\n",
        "  return Counter(str1) == Counter(str2)\n",
        "\n",
        "# Example usage:\n",
        "str1 = \"listen\"\n",
        "str2 = \"silent\"\n",
        "\n",
        "if are_anagrams(str1, str2):\n",
        "  print(\"The two strings are anagram of each other\")\n",
        "\n",
        "else:\n",
        "  print(\"The two strings are not anagrams of each other.\")"
      ],
      "metadata": {
        "colab": {
          "base_uri": "https://localhost:8080/"
        },
        "id": "pasy0qRiD2bd",
        "outputId": "e5a83b1e-18db-48d8-924a-3223dda4fafc"
      },
      "execution_count": 1,
      "outputs": [
        {
          "output_type": "stream",
          "name": "stdout",
          "text": [
            "The two strings are anagram of each other\n"
          ]
        }
      ]
    },
    {
      "cell_type": "code",
      "source": [],
      "metadata": {
        "id": "181-uP0MEtSr"
      },
      "execution_count": null,
      "outputs": []
    }
  ]
}