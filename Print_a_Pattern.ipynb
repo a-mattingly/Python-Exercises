{
  "nbformat": 4,
  "nbformat_minor": 0,
  "metadata": {
    "colab": {
      "provenance": [],
      "authorship_tag": "ABX9TyPMD0Tpf7/jDPl7ZMEt+L6H",
      "include_colab_link": true
    },
    "kernelspec": {
      "name": "python3",
      "display_name": "Python 3"
    },
    "language_info": {
      "name": "python"
    }
  },
  "cells": [
    {
      "cell_type": "markdown",
      "metadata": {
        "id": "view-in-github",
        "colab_type": "text"
      },
      "source": [
        "<a href=\"https://colab.research.google.com/github/a-mattingly/Python-Exercises/blob/main/Print_a_Pattern.ipynb\" target=\"_parent\"><img src=\"https://colab.research.google.com/assets/colab-badge.svg\" alt=\"Open In Colab\"/></a>"
      ]
    },
    {
      "cell_type": "code",
      "execution_count": null,
      "metadata": {
        "id": "726-a0wZCihu"
      },
      "outputs": [],
      "source": [
        "# Challenge: Create a function that prints a simple triangle pattern using loops."
      ]
    },
    {
      "cell_type": "code",
      "source": [
        "def print_triangle(rows):\n",
        "  for i in range(1, rows + 1):\n",
        "    print('*' * i)\n",
        "\n",
        "# Example usage:\n",
        "print_triangle(8)"
      ],
      "metadata": {
        "colab": {
          "base_uri": "https://localhost:8080/"
        },
        "id": "j1XIx_u6Clgl",
        "outputId": "2123d45a-a714-4376-ecb0-699d54cc131b"
      },
      "execution_count": 5,
      "outputs": [
        {
          "output_type": "stream",
          "name": "stdout",
          "text": [
            "*\n",
            "**\n",
            "***\n",
            "****\n",
            "*****\n",
            "******\n",
            "*******\n",
            "********\n"
          ]
        }
      ]
    }
  ]
}