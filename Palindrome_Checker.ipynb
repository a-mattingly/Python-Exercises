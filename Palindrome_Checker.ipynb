{
  "nbformat": 4,
  "nbformat_minor": 0,
  "metadata": {
    "colab": {
      "provenance": [],
      "authorship_tag": "ABX9TyMxIbg+LvSR/2aWIW2/Yim1",
      "include_colab_link": true
    },
    "kernelspec": {
      "name": "python3",
      "display_name": "Python 3"
    },
    "language_info": {
      "name": "python"
    }
  },
  "cells": [
    {
      "cell_type": "markdown",
      "metadata": {
        "id": "view-in-github",
        "colab_type": "text"
      },
      "source": [
        "<a href=\"https://colab.research.google.com/github/a-mattingly/Python-Exercises/blob/python-exercises/Palindrome_Checker.ipynb\" target=\"_parent\"><img src=\"https://colab.research.google.com/assets/colab-badge.svg\" alt=\"Open In Colab\"/></a>"
      ]
    },
    {
      "cell_type": "code",
      "source": [
        "# Challenge: Create a function that checks if a given string is a palindrome (reads the same forward and backward)."
      ],
      "metadata": {
        "id": "m3ByqfI3j0cl"
      },
      "execution_count": null,
      "outputs": []
    },
    {
      "cell_type": "code",
      "execution_count": null,
      "metadata": {
        "colab": {
          "base_uri": "https://localhost:8080/"
        },
        "id": "73MeqkRm31hD",
        "outputId": "1e185623-bcac-40ad-b244-d554de42ebc9"
      },
      "outputs": [
        {
          "output_type": "stream",
          "name": "stdout",
          "text": [
            "\"Race car\" is a palindrome!\n"
          ]
        }
      ],
      "source": [
        "def is_palindrome(text):\n",
        "  # Remove spaces and convert to lowercase for accurate comparison\n",
        "  text = text.replace(\" \",\"\").lower()\n",
        "\n",
        "  # Check if the text is the same forwards and backwards\n",
        "  return text == text[::-1]\n",
        "\n",
        "# Example usage:\n",
        "word = \"Race car\"\n",
        "\n",
        "if is_palindrome(word):\n",
        "  print(f'\"{word}\" is a palindrome!')\n",
        "else:\n",
        "  print(f'\"{word}\" is not a palindrome.')"
      ]
    },
    {
      "cell_type": "code",
      "source": [],
      "metadata": {
        "id": "40l-5yx553sq"
      },
      "execution_count": null,
      "outputs": []
    }
  ]
}